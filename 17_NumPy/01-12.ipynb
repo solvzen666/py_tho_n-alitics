{
 "cells": [
  {
   "cell_type": "code",
   "execution_count": 255,
   "id": "9f66ef86",
   "metadata": {},
   "outputs": [
    {
     "name": "stdout",
     "output_type": "stream",
     "text": [
      "[[ 20  40  56  80   0   5  25  27  74   1]\n",
      " [  0  98  67 100   8  56  34  82 100   7]\n",
      " [ 78  54  23  79 100   0   0  42  95  83]\n",
      " [ 51  50  47  23 100  94  25  48  38  77]\n",
      " [ 90  87  41  89  52   0   5  17  28  99]\n",
      " [ 32  18  21  18  29  31  48  62  76  22]\n",
      " [  6   0  65  78  43  22  38  88  94 100]\n",
      " [ 77  28  39  41   0  81  45  54  98  12]\n",
      " [ 66   0  88   0  44   0  55 100  12  11]\n",
      " [ 17  70  86  96  56  23  32  49  70  80]\n",
      " [ 20  24  76  50  29  40   3   2   5  11]\n",
      " [ 33  63  28  40  51 100  98  87  22  30]\n",
      " [ 16  54  78  12  25  35  10  19  67   0]\n",
      " [100  88  24  33  47  56  62  34  77  53]\n",
      " [ 50  89  70  72  56  29  15  20   0   0]]\n"
     ]
    }
   ],
   "source": [
    "import numpy as np\n",
    "scores = np.array([\n",
    "         [20, 40, 56, 80, 0, 5, 25, 27, 74, 1],\n",
    "         [0, 98, 67, 100, 8, 56, 34, 82, 100, 7],\n",
    "         [78, 54, 23, 79, 100, 0, 0, 42, 95, 83],\n",
    "         [51, 50, 47, 23, 100, 94, 25, 48, 38, 77],\n",
    "         [90, 87, 41, 89, 52, 0, 5, 17, 28, 99],\n",
    "         [32, 18, 21, 18, 29, 31, 48, 62, 76, 22],\n",
    "         [6, 0, 65, 78, 43, 22, 38, 88, 94, 100],\n",
    "         [77, 28, 39, 41, 0, 81, 45, 54, 98, 12],\n",
    "         [66, 0, 88, 0, 44, 0, 55, 100, 12, 11],\n",
    "         [17, 70, 86, 96, 56, 23, 32, 49, 70, 80],\n",
    "         [20, 24, 76, 50, 29, 40, 3, 2, 5, 11],\n",
    "         [33, 63, 28, 40, 51, 100, 98, 87, 22, 30],\n",
    "         [16, 54, 78, 12, 25, 35, 10, 19, 67, 0],\n",
    "         [100, 88, 24, 33, 47, 56, 62, 34, 77, 53],\n",
    "         [50, 89, 70, 72, 56, 29, 15, 20, 0, 0]])\n",
    "print(scores)"
   ]
  },
  {
   "cell_type": "code",
   "execution_count": 23,
   "id": "433885db",
   "metadata": {},
   "outputs": [
    {
     "name": "stdout",
     "output_type": "stream",
     "text": [
      "13\n"
     ]
    }
   ],
   "source": [
    "# Задание 1\n",
    "# Посчитать, сколько слушателей получили 0 за вступительный экзамен.\n",
    "\n",
    "count = np.count_nonzero(scores == 0)\n",
    "print(count)"
   ]
  },
  {
   "cell_type": "code",
   "execution_count": 156,
   "id": "56abfd03",
   "metadata": {},
   "outputs": [
    {
     "name": "stdout",
     "output_type": "stream",
     "text": [
      "16\n"
     ]
    }
   ],
   "source": [
    "# Задание 2\n",
    "# Посчитать, сколько слушателей получили балл выше 90.\n",
    "\n",
    "count = np.count_nonzero(scores > 90)\n",
    "print(count)"
   ]
  },
  {
   "cell_type": "code",
   "execution_count": 183,
   "id": "3f03b492",
   "metadata": {},
   "outputs": [
    {
     "data": {
      "text/plain": [
       "23"
      ]
     },
     "execution_count": 183,
     "metadata": {},
     "output_type": "execute_result"
    }
   ],
   "source": [
    "# Задание 3\n",
    "# Посчитать, сколько человек получили балл не ниже 50, но не выше 70.\n",
    "\n",
    "((scores>= 50) & (scores < 70)).sum()"
   ]
  },
  {
   "cell_type": "code",
   "execution_count": 184,
   "id": "55a69f55",
   "metadata": {},
   "outputs": [
    {
     "data": {
      "text/plain": [
       "9"
      ]
     },
     "execution_count": 184,
     "metadata": {},
     "output_type": "execute_result"
    }
   ],
   "source": [
    "# Задание 4\n",
    "# Определить, в какой группе средний балл за вступительный экзамен выше.\n",
    "\n",
    "np.argmax(np.mean(scores, axis = 1))"
   ]
  },
  {
   "cell_type": "code",
   "execution_count": 225,
   "id": "a9a3fdf8",
   "metadata": {},
   "outputs": [
    {
     "name": "stdout",
     "output_type": "stream",
     "text": [
      "[ 20  40  56  80   5  25  27  74   1  98  67 100   8  56  34  82 100   7\n",
      "  78  54  23  79 100  42  95  83  51  50  47  23 100  94  25  48  38  77\n",
      "  90  87  41  89  52   5  17  28  99  32  18  21  18  29  31  48  62  76\n",
      "  22   6  65  78  43  22  38  88  94 100  77  28  39  41  81  45  54  98\n",
      "  12  66  88  44  55 100  12  11  17  70  86  96  56  23  32  49  70  80\n",
      "  20  24  76  50  29  40   3   2   5  11  33  63  28  40  51 100  98  87\n",
      "  22  30  16  54  78  12  25  35  10  19  67 100  88  24  33  47  56  62\n",
      "  34  77  53  50  89  70  72  56  29  15  20]\n"
     ]
    }
   ],
   "source": [
    "# Задание 5\n",
    "# Сохранить баллы слушателей выше 0 в массив nonzero.\n",
    "\n",
    "a = np.array(scores[scores.nonzero()])\n",
    "print(a)"
   ]
  },
  {
   "cell_type": "code",
   "execution_count": 226,
   "id": "db09c3de",
   "metadata": {},
   "outputs": [
    {
     "name": "stdout",
     "output_type": "stream",
     "text": [
      "1\n"
     ]
    }
   ],
   "source": [
    "# Задание 6\n",
    "# Используя массив nonzero, определить минимальный балл за вступительный балл по всем группам.\n",
    "# a = sorted(scores[scores.nonzero()])\n",
    "minV = np.min(scores[scores.nonzero()])\n",
    "print(minV)"
   ]
  },
  {
   "cell_type": "code",
   "execution_count": 227,
   "id": "718fb233",
   "metadata": {},
   "outputs": [
    {
     "name": "stdout",
     "output_type": "stream",
     "text": [
      "[[ 98 100  82 100 100  95  83 100  94  90  87  89  99  88  94 100  81  98\n",
      "   88 100  86  96 100  98  87 100  88  89]]\n"
     ]
    }
   ],
   "source": [
    "# Задание 7\n",
    "# Выбрать из массива nonzero только те значения, которые соответствуют продвинутому уровню\n",
    "# знания языка – баллу за экзамен выше 80. Сохранить полученный результат в массив advanced.\n",
    "advanced = np.array([scores[scores > 80]])\n",
    "print(advanced)"
   ]
  },
  {
   "cell_type": "code",
   "execution_count": 218,
   "id": "921893d6",
   "metadata": {},
   "outputs": [
    {
     "data": {
      "text/plain": [
       "dtype('int32')"
      ]
     },
     "execution_count": 218,
     "metadata": {},
     "output_type": "execute_result"
    }
   ],
   "source": [
    "# Задание 8\n",
    "# Определить размерность массива advanced.\n",
    "advanced.dtype\n"
   ]
  },
  {
   "cell_type": "code",
   "execution_count": 245,
   "id": "e44b01dd",
   "metadata": {},
   "outputs": [
    {
     "data": {
      "text/plain": [
       "array([[ 98, 100,  82, 100, 100,  95,  83],\n",
       "       [100,  94,  90,  87,  89,  99,  88],\n",
       "       [ 94, 100,  81,  98,  88, 100,  86],\n",
       "       [ 96, 100,  98,  87, 100,  88,  89]])"
      ]
     },
     "execution_count": 245,
     "metadata": {},
     "output_type": "execute_result"
    }
   ],
   "source": [
    "# Задание 9\n",
    "# Определить форму массива advanced.\n",
    "advanced.shape\n",
    "advanced.reshape(4,7)"
   ]
  },
  {
   "cell_type": "code",
   "execution_count": 241,
   "id": "30396ca4",
   "metadata": {},
   "outputs": [
    {
     "name": "stdout",
     "output_type": "stream",
     "text": [
      "28\n"
     ]
    }
   ],
   "source": [
    "# Задание 10\n",
    "# Определить общее число элементов в массиве advanced.\n",
    "size = advanced.size\n",
    "print(size)"
   ]
  },
  {
   "cell_type": "code",
   "execution_count": 256,
   "id": "945b2be1",
   "metadata": {},
   "outputs": [
    {
     "name": "stdout",
     "output_type": "stream",
     "text": [
      "[[False False False False False False False False False False]\n",
      " [False False False  True False False False False  True False]\n",
      " [False False False False  True False False False False False]\n",
      " [False False False False  True False False False False False]\n",
      " [False False False False False False False False False False]\n",
      " [False False False False False False False False False False]\n",
      " [False False False False False False False False False  True]\n",
      " [False False False False False False False False False False]\n",
      " [False False False False False False False  True False False]\n",
      " [False False False False False False False False False False]\n",
      " [False False False False False False False False False False]\n",
      " [False False False False False  True False False False False]\n",
      " [False False False False False False False False False False]\n",
      " [ True False False False False False False False False False]\n",
      " [False False False False False False False False False False]]\n"
     ]
    }
   ],
   "source": [
    "# Задание 11\n",
    "# На основе исходного массива scores создать булев массив sto,\n",
    "# где True соответствует баллам за экзамен, равным 100,\n",
    "# а False – всем остальным баллам.\n",
    "sto = scores == 100\n",
    "print(sto)"
   ]
  },
  {
   "cell_type": "code",
   "execution_count": 177,
   "id": "5d28c9eb",
   "metadata": {},
   "outputs": [],
   "source": [
    "# Задание 12\n",
    "# На основе исходного массива scores вывести на экран оценки\n",
    "# слушателей первых семи групп (включительно, должны быть 7 списков оценок)."
   ]
  },
  {
   "cell_type": "code",
   "execution_count": 259,
   "id": "2471669c",
   "metadata": {},
   "outputs": [
    {
     "name": "stdout",
     "output_type": "stream",
     "text": [
      "[[ 20  40  56  80   0   5  25  27  74   1]\n",
      " [  0  98  67 100   8  56  34  82 100   7]\n",
      " [ 78  54  23  79 100   0   0  42  95  83]\n",
      " [ 51  50  47  23 100  94  25  48  38  77]\n",
      " [ 90  87  41  89  52   0   5  17  28  99]\n",
      " [ 32  18  21  18  29  31  48  62  76  22]\n",
      " [  6   0  65  78  43  22  38  88  94 100]]\n"
     ]
    }
   ],
   "source": [
    "print(scores[0:7:1])"
   ]
  },
  {
   "cell_type": "code",
   "execution_count": null,
   "id": "1b276f26",
   "metadata": {},
   "outputs": [],
   "source": []
  }
 ],
 "metadata": {
  "kernelspec": {
   "display_name": "Python 3 (ipykernel)",
   "language": "python",
   "name": "python3"
  },
  "language_info": {
   "codemirror_mode": {
    "name": "ipython",
    "version": 3
   },
   "file_extension": ".py",
   "mimetype": "text/x-python",
   "name": "python",
   "nbconvert_exporter": "python",
   "pygments_lexer": "ipython3",
   "version": "3.9.13"
  }
 },
 "nbformat": 4,
 "nbformat_minor": 5
}
